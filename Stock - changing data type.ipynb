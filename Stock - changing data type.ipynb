{
 "cells": [
  {
   "cell_type": "markdown",
   "id": "25fadbc5",
   "metadata": {},
   "source": [
    "This Notebook is created to change format of the columns to assit Grafana to create desired Visualizations for the dashboard."
   ]
  },
  {
   "cell_type": "code",
   "execution_count": 1,
   "id": "9ff5ae1c",
   "metadata": {},
   "outputs": [],
   "source": [
    "# Import pandas\n",
    "import pandas as pd"
   ]
  },
  {
   "cell_type": "code",
   "execution_count": 2,
   "id": "15227d26",
   "metadata": {},
   "outputs": [
    {
     "data": {
      "text/html": [
       "<div>\n",
       "<style scoped>\n",
       "    .dataframe tbody tr th:only-of-type {\n",
       "        vertical-align: middle;\n",
       "    }\n",
       "\n",
       "    .dataframe tbody tr th {\n",
       "        vertical-align: top;\n",
       "    }\n",
       "\n",
       "    .dataframe thead th {\n",
       "        text-align: right;\n",
       "    }\n",
       "</style>\n",
       "<table border=\"1\" class=\"dataframe\">\n",
       "  <thead>\n",
       "    <tr style=\"text-align: right;\">\n",
       "      <th></th>\n",
       "      <th>Date</th>\n",
       "      <th>Closing Volume</th>\n",
       "      <th>Volume</th>\n",
       "      <th>50-Day Moving Average</th>\n",
       "      <th>200-Day Moving Average</th>\n",
       "    </tr>\n",
       "  </thead>\n",
       "  <tbody>\n",
       "    <tr>\n",
       "      <th>0</th>\n",
       "      <td>01-01-20</td>\n",
       "      <td>6.698408</td>\n",
       "      <td>295689.37230</td>\n",
       "      <td>55.356753</td>\n",
       "      <td>54.001058</td>\n",
       "    </tr>\n",
       "    <tr>\n",
       "      <th>1</th>\n",
       "      <td>02-01-20</td>\n",
       "      <td>61.452089</td>\n",
       "      <td>847607.11960</td>\n",
       "      <td>56.107148</td>\n",
       "      <td>54.034503</td>\n",
       "    </tr>\n",
       "    <tr>\n",
       "      <th>2</th>\n",
       "      <td>03-01-20</td>\n",
       "      <td>21.911287</td>\n",
       "      <td>804114.07660</td>\n",
       "      <td>55.246507</td>\n",
       "      <td>54.222753</td>\n",
       "    </tr>\n",
       "    <tr>\n",
       "      <th>3</th>\n",
       "      <td>04-01-20</td>\n",
       "      <td>47.445713</td>\n",
       "      <td>844474.63390</td>\n",
       "      <td>56.443637</td>\n",
       "      <td>54.207440</td>\n",
       "    </tr>\n",
       "    <tr>\n",
       "      <th>4</th>\n",
       "      <td>05-01-20</td>\n",
       "      <td>88.814258</td>\n",
       "      <td>36360.73427</td>\n",
       "      <td>57.048413</td>\n",
       "      <td>53.992278</td>\n",
       "    </tr>\n",
       "  </tbody>\n",
       "</table>\n",
       "</div>"
      ],
      "text/plain": [
       "       Date  Closing Volume        Volume  50-Day Moving Average  \\\n",
       "0  01-01-20        6.698408  295689.37230              55.356753   \n",
       "1  02-01-20       61.452089  847607.11960              56.107148   \n",
       "2  03-01-20       21.911287  804114.07660              55.246507   \n",
       "3  04-01-20       47.445713  844474.63390              56.443637   \n",
       "4  05-01-20       88.814258   36360.73427              57.048413   \n",
       "\n",
       "   200-Day Moving Average  \n",
       "0               54.001058  \n",
       "1               54.034503  \n",
       "2               54.222753  \n",
       "3               54.207440  \n",
       "4               53.992278  "
      ]
     },
     "execution_count": 2,
     "metadata": {},
     "output_type": "execute_result"
    }
   ],
   "source": [
    "# Load the CSV file into a DataFrame\n",
    "df = pd.read_csv('/users/nik/downloads/Stock.csv')\n",
    "df.head()"
   ]
  },
  {
   "cell_type": "code",
   "execution_count": 5,
   "id": "a6616674",
   "metadata": {},
   "outputs": [
    {
     "name": "stdout",
     "output_type": "stream",
     "text": [
      "<class 'pandas.core.frame.DataFrame'>\n",
      "RangeIndex: 2500 entries, 0 to 2499\n",
      "Data columns (total 5 columns):\n",
      " #   Column                  Non-Null Count  Dtype  \n",
      "---  ------                  --------------  -----  \n",
      " 0   Date                    2500 non-null   object \n",
      " 1   Closing Volume          2500 non-null   float64\n",
      " 2   Volume                  2500 non-null   float64\n",
      " 3   50-Day Moving Average   2500 non-null   float64\n",
      " 4   200-Day Moving Average  2500 non-null   float64\n",
      "dtypes: float64(4), object(1)\n",
      "memory usage: 97.8+ KB\n"
     ]
    }
   ],
   "source": [
    "# info to check the dtype of the columns...\n",
    "df.info()"
   ]
  },
  {
   "cell_type": "code",
   "execution_count": 6,
   "id": "9ba2b481",
   "metadata": {},
   "outputs": [],
   "source": [
    "# Convert the 'Date' column to datetime format\n",
    "df['Date'] = pd.to_datetime(df['Date'], format='%d-%m-%y')"
   ]
  },
  {
   "cell_type": "code",
   "execution_count": 7,
   "id": "8da20592",
   "metadata": {},
   "outputs": [
    {
     "name": "stdout",
     "output_type": "stream",
     "text": [
      "<class 'pandas.core.frame.DataFrame'>\n",
      "RangeIndex: 2500 entries, 0 to 2499\n",
      "Data columns (total 5 columns):\n",
      " #   Column                  Non-Null Count  Dtype         \n",
      "---  ------                  --------------  -----         \n",
      " 0   Date                    2500 non-null   datetime64[ns]\n",
      " 1   Closing Volume          2500 non-null   float64       \n",
      " 2   Volume                  2500 non-null   float64       \n",
      " 3   50-Day Moving Average   2500 non-null   float64       \n",
      " 4   200-Day Moving Average  2500 non-null   float64       \n",
      "dtypes: datetime64[ns](1), float64(4)\n",
      "memory usage: 97.8 KB\n"
     ]
    }
   ],
   "source": [
    "# checking info again...\n",
    "df.info()"
   ]
  },
  {
   "cell_type": "markdown",
   "id": "ff72d9cf",
   "metadata": {},
   "source": [
    "As we can see we have accomplish the change of data according to the requirements for this timeseries visaulization analysis using Grafana. Now we will export this to the CSV."
   ]
  },
  {
   "cell_type": "code",
   "execution_count": 9,
   "id": "f967bfc7",
   "metadata": {},
   "outputs": [
    {
     "name": "stdout",
     "output_type": "stream",
     "text": [
      "Data exported successfully!\n"
     ]
    }
   ],
   "source": [
    "# Export the DataFrame to a new CSV file\n",
    "df.to_csv('/users/nik/downloads/Converted_Stock.csv', index=False)\n",
    "print(\"Data exported successfully!\")"
   ]
  },
  {
   "cell_type": "code",
   "execution_count": null,
   "id": "ac034a71",
   "metadata": {},
   "outputs": [],
   "source": []
  }
 ],
 "metadata": {
  "kernelspec": {
   "display_name": "Python 3 (ipykernel)",
   "language": "python",
   "name": "python3"
  },
  "language_info": {
   "codemirror_mode": {
    "name": "ipython",
    "version": 3
   },
   "file_extension": ".py",
   "mimetype": "text/x-python",
   "name": "python",
   "nbconvert_exporter": "python",
   "pygments_lexer": "ipython3",
   "version": "3.10.14"
  }
 },
 "nbformat": 4,
 "nbformat_minor": 5
}
